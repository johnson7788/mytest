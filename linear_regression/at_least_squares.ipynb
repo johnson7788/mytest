{
 "cells": [
  {
   "cell_type": "code",
   "execution_count": 1,
   "metadata": {},
   "outputs": [],
   "source": [
    "#使用最小二乘法（线性代数公式推导）求解线性回归，对比梯度下降法\n",
    "\n",
    "import numpy as np\n",
    "import pandas as pd\n",
    "import matplotlib.pyplot as plt\n",
    "from sklearn.model_selection import train_test_split\n",
    "import matplotlib as mpl\n",
    "mpl.rcParams['font.sans-serif']=[u'simHei']"
   ]
  },
  {
   "cell_type": "code",
   "execution_count": 3,
   "metadata": {},
   "outputs": [
    {
     "name": "stdout",
     "output_type": "stream",
     "text": [
      "<class 'pandas.core.frame.DataFrame'>\n",
      "RangeIndex: 200 entries, 0 to 199\n",
      "Data columns (total 9 columns):\n",
      "Date                     200 non-null object\n",
      "Time                     200 non-null object\n",
      "Global_active_power      200 non-null float64\n",
      "Global_reactive_power    200 non-null float64\n",
      "Voltage                  200 non-null float64\n",
      "Global_intensity         200 non-null float64\n",
      "Sub_metering_1           200 non-null float64\n",
      "Sub_metering_2           200 non-null float64\n",
      "Sub_metering_3           200 non-null float64\n",
      "dtypes: float64(7), object(2)\n",
      "memory usage: 14.1+ KB\n",
      "None\n"
     ]
    }
   ],
   "source": [
    "# 1. 加载数据\n",
    "path = 'household_power_consumption_200.txt'\n",
    "df = pd.read_csv(path,sep=';')\n",
    "\n",
    "print(df.info())"
   ]
  },
  {
   "cell_type": "code",
   "execution_count": 4,
   "metadata": {},
   "outputs": [
    {
     "name": "stdout",
     "output_type": "stream",
     "text": [
      "   Global_active_power  Global_reactive_power\n",
      "0                4.216                  0.418\n",
      "1                5.360                  0.436\n",
      "2                5.374                  0.498\n",
      "3                5.388                  0.502\n",
      "4                3.666                  0.528\n",
      "0    18.4\n",
      "1    23.0\n",
      "2    23.0\n",
      "3    23.0\n",
      "4    15.8\n",
      "Name: Global_intensity, dtype: float64\n"
     ]
    }
   ],
   "source": [
    "# 2.找出输入模型的特征属性和目标属性\n",
    "X=df.iloc[:,2:4]\n",
    "y=df.iloc[:,5]\n",
    "print(X.head())\n",
    "print(y[0:5])"
   ]
  },
  {
   "cell_type": "code",
   "execution_count": 6,
   "metadata": {},
   "outputs": [],
   "source": [
    "# 3.划分训练集和测试集\n",
    "X_train, X_test, y_train, y_test=train_test_split(X,y,test_size=0.2, random_state=174)\n",
    "# print('测试集的样本:{}'.format(X_train.shape))\n",
    "# print('测试集的样本:{}'.format(X_test.shape))\n",
    "# print(y.shape)"
   ]
  },
  {
   "cell_type": "code",
   "execution_count": 7,
   "metadata": {},
   "outputs": [
    {
     "name": "stdout",
     "output_type": "stream",
     "text": [
      "[[4.27850874]\n",
      " [0.10480247]]\n"
     ]
    }
   ],
   "source": [
    "# 4.求解方程的解\n",
    "\n",
    "X_train=np.mat(X_train)\n",
    "y_train=np.mat(y_train).reshape(-1,1)\n",
    "# print(X_train.shape)\n",
    "# print(y_train.shape)\n",
    "# 最小二乘公式theta\n",
    "theta=(X_train.T*X_train).I*X_train.T*y_train\n",
    "print(theta)"
   ]
  },
  {
   "cell_type": "code",
   "execution_count": 8,
   "metadata": {},
   "outputs": [],
   "source": [
    "# 5.使用模型求解出来的theta进行预测\n",
    "predict_y = np.mat(X_test)*theta"
   ]
  },
  {
   "cell_type": "code",
   "execution_count": 9,
   "metadata": {},
   "outputs": [
    {
     "data": {
      "image/png": "[encoded data removed]",
      "text/plain": [
       "<Figure size 432x288 with 1 Axes>"
      ]
     },
     "metadata": {},
     "output_type": "display_data"
    }
   ],
   "source": [
    "# 6.画图看效果\n",
    "t = np.arange(len(X_test))\n",
    "plt.figure(facecolor='w')\n",
    "plt.plot(t,predict_y,'r-',label='预测值')\n",
    "plt.plot(t,y_test,'b-',label='真实值')\n",
    "plt.legend()\n",
    "plt.show()"
   ]
  },
  {
   "cell_type": "code",
   "execution_count": null,
   "metadata": {},
   "outputs": [],
   "source": []
  }
 ],
 "metadata": {
  "kernelspec": {
   "display_name": "Python 3",
   "language": "python",
   "name": "python3"
  },
  "language_info": {
   "codemirror_mode": {
    "name": "ipython",
    "version": 3
   },
   "file_extension": ".py",
   "mimetype": "text/x-python",
   "name": "python",
   "nbconvert_exporter": "python",
   "pygments_lexer": "ipython3",
   "version": "3.6.8"
  }
 },
 "nbformat": 4,
 "nbformat_minor": 2
}
